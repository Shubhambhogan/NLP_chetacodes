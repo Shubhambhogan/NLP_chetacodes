{
 "cells": [
  {
   "cell_type": "code",
   "execution_count": 1,
   "id": "b5e50f26",
   "metadata": {},
   "outputs": [],
   "source": [
    "document = '''The Indian Premier League (IPL) is a professional Twenty20 cricket \n",
    "league in India usually contested between March and May of every year \n",
    "by eight teams representing eight different cities or states in India.\n",
    "[3] The league was founded by the Board of Control for Cricket in \n",
    "India (BCCI) in 2007. The IPL has an exclusive window in ICC Future \n",
    "Tours Programme.[4]'''"
   ]
  },
  {
   "cell_type": "code",
   "execution_count": 2,
   "id": "860d468b",
   "metadata": {},
   "outputs": [],
   "source": [
    "document = document.lower()"
   ]
  },
  {
   "cell_type": "code",
   "execution_count": 3,
   "id": "ade1683d",
   "metadata": {},
   "outputs": [
    {
     "name": "stdout",
     "output_type": "stream",
     "text": [
      "['the', 'indian', 'premier', 'league', '(ipl)', 'is', 'a', 'professional', 'twenty20', 'cricket', 'league', 'in', 'india', 'usually', 'contested', 'between', 'march', 'and', 'may', 'of', 'every', 'year', 'by', 'eight', 'teams', 'representing', 'eight', 'different', 'cities', 'or', 'states', 'in', 'india.', '[3]', 'the', 'league', 'was', 'founded', 'by', 'the', 'board', 'of', 'control', 'for', 'cricket', 'in', 'india', '(bcci)', 'in', '2007.', 'the', 'ipl', 'has', 'an', 'exclusive', 'window', 'in', 'icc', 'future', 'tours', 'programme.[4]']\n"
     ]
    }
   ],
   "source": [
    "print(document.split())"
   ]
  },
  {
   "cell_type": "markdown",
   "id": "2e726a83",
   "metadata": {},
   "source": [
    "# 1) Tokenization"
   ]
  },
  {
   "cell_type": "code",
   "execution_count": 4,
   "id": "a6e41c99",
   "metadata": {},
   "outputs": [],
   "source": [
    "import nltk"
   ]
  },
  {
   "cell_type": "code",
   "execution_count": 5,
   "id": "9c0340cf",
   "metadata": {},
   "outputs": [],
   "source": [
    "# one time\n",
    "# nltk.download('punkt')"
   ]
  },
  {
   "cell_type": "code",
   "execution_count": 6,
   "id": "6a1e0934",
   "metadata": {},
   "outputs": [],
   "source": [
    "from nltk.tokenize import word_tokenize"
   ]
  },
  {
   "cell_type": "code",
   "execution_count": 7,
   "id": "a5ab847c",
   "metadata": {},
   "outputs": [
    {
     "name": "stdout",
     "output_type": "stream",
     "text": [
      "['the', 'indian', 'premier', 'league', '(', 'ipl', ')', 'is', 'a', 'professional', 'twenty20', 'cricket', 'league', 'in', 'india', 'usually', 'contested', 'between', 'march', 'and', 'may', 'of', 'every', 'year', 'by', 'eight', 'teams', 'representing', 'eight', 'different', 'cities', 'or', 'states', 'in', 'india', '.', '[', '3', ']', 'the', 'league', 'was', 'founded', 'by', 'the', 'board', 'of', 'control', 'for', 'cricket', 'in', 'india', '(', 'bcci', ')', 'in', '2007.', 'the', 'ipl', 'has', 'an', 'exclusive', 'window', 'in', 'icc', 'future', 'tours', 'programme', '.', '[', '4', ']']\n"
     ]
    }
   ],
   "source": [
    "tokens = word_tokenize(document)\n",
    "print(tokens)"
   ]
  },
  {
   "cell_type": "code",
   "execution_count": 8,
   "id": "51537caf",
   "metadata": {},
   "outputs": [
    {
     "data": {
      "text/plain": [
       "72"
      ]
     },
     "execution_count": 8,
     "metadata": {},
     "output_type": "execute_result"
    }
   ],
   "source": [
    "len(tokens) # words,numbers,special characters"
   ]
  },
  {
   "cell_type": "markdown",
   "id": "74524ec0",
   "metadata": {},
   "source": [
    "# 2) Stop words removal"
   ]
  },
  {
   "cell_type": "code",
   "execution_count": 9,
   "id": "96f17a15",
   "metadata": {},
   "outputs": [],
   "source": [
    "# nltk.download('stopwords')"
   ]
  },
  {
   "cell_type": "code",
   "execution_count": 10,
   "id": "5dc4707b",
   "metadata": {},
   "outputs": [],
   "source": [
    "from nltk.corpus import stopwords"
   ]
  },
  {
   "cell_type": "code",
   "execution_count": 11,
   "id": "b6c1b7ce",
   "metadata": {},
   "outputs": [
    {
     "name": "stdout",
     "output_type": "stream",
     "text": [
      "['i', 'me', 'my', 'myself', 'we', 'our', 'ours', 'ourselves', 'you', \"you're\", \"you've\", \"you'll\", \"you'd\", 'your', 'yours', 'yourself', 'yourselves', 'he', 'him', 'his', 'himself', 'she', \"she's\", 'her', 'hers', 'herself', 'it', \"it's\", 'its', 'itself', 'they', 'them', 'their', 'theirs', 'themselves', 'what', 'which', 'who', 'whom', 'this', 'that', \"that'll\", 'these', 'those', 'am', 'is', 'are', 'was', 'were', 'be', 'been', 'being', 'have', 'has', 'had', 'having', 'do', 'does', 'did', 'doing', 'a', 'an', 'the', 'and', 'but', 'if', 'or', 'because', 'as', 'until', 'while', 'of', 'at', 'by', 'for', 'with', 'about', 'against', 'between', 'into', 'through', 'during', 'before', 'after', 'above', 'below', 'to', 'from', 'up', 'down', 'in', 'out', 'on', 'off', 'over', 'under', 'again', 'further', 'then', 'once', 'here', 'there', 'when', 'where', 'why', 'how', 'all', 'any', 'both', 'each', 'few', 'more', 'most', 'other', 'some', 'such', 'no', 'nor', 'not', 'only', 'own', 'same', 'so', 'than', 'too', 'very', 's', 't', 'can', 'will', 'just', 'don', \"don't\", 'should', \"should've\", 'now', 'd', 'll', 'm', 'o', 're', 've', 'y', 'ain', 'aren', \"aren't\", 'couldn', \"couldn't\", 'didn', \"didn't\", 'doesn', \"doesn't\", 'hadn', \"hadn't\", 'hasn', \"hasn't\", 'haven', \"haven't\", 'isn', \"isn't\", 'ma', 'mightn', \"mightn't\", 'mustn', \"mustn't\", 'needn', \"needn't\", 'shan', \"shan't\", 'shouldn', \"shouldn't\", 'wasn', \"wasn't\", 'weren', \"weren't\", 'won', \"won't\", 'wouldn', \"wouldn't\"]\n"
     ]
    }
   ],
   "source": [
    "stop_words = stopwords.words('english')\n",
    "print(stop_words)"
   ]
  },
  {
   "cell_type": "code",
   "execution_count": 12,
   "id": "7f5aefe1",
   "metadata": {},
   "outputs": [
    {
     "name": "stdout",
     "output_type": "stream",
     "text": [
      "['indian', 'premier', 'league', '(', 'ipl', ')', 'professional', 'twenty20', 'cricket', 'league', 'india', 'usually', 'contested', 'march', 'may', 'every', 'year', 'eight', 'teams', 'representing', 'eight', 'different', 'cities', 'states', 'india', '.', '[', '3', ']', 'league', 'founded', 'board', 'control', 'cricket', 'india', '(', 'bcci', ')', '2007.', 'ipl', 'exclusive', 'window', 'icc', 'future', 'tours', 'programme', '.', '[', '4', ']']\n"
     ]
    }
   ],
   "source": [
    "# remove stopwords from the documents\n",
    "\n",
    "clean_tokens = [t for t in tokens if t not in stop_words]\n",
    "print(clean_tokens)"
   ]
  },
  {
   "cell_type": "code",
   "execution_count": 13,
   "id": "4865aacc",
   "metadata": {},
   "outputs": [
    {
     "data": {
      "text/plain": [
       "50"
      ]
     },
     "execution_count": 13,
     "metadata": {},
     "output_type": "execute_result"
    }
   ],
   "source": [
    "len(clean_tokens)"
   ]
  },
  {
   "cell_type": "markdown",
   "id": "cce1598e",
   "metadata": {},
   "source": [
    "# Punctuation"
   ]
  },
  {
   "cell_type": "code",
   "execution_count": 14,
   "id": "153926da",
   "metadata": {},
   "outputs": [
    {
     "data": {
      "text/plain": [
       "'!\"#$%&\\'()*+,-./:;<=>?@[\\\\]^_`{|}~'"
      ]
     },
     "execution_count": 14,
     "metadata": {},
     "output_type": "execute_result"
    }
   ],
   "source": [
    "from string import punctuation\n",
    "punctuation"
   ]
  },
  {
   "cell_type": "code",
   "execution_count": 15,
   "id": "69edaf73",
   "metadata": {},
   "outputs": [
    {
     "name": "stdout",
     "output_type": "stream",
     "text": [
      "['indian', 'premier', 'league', 'ipl', 'professional', 'twenty20', 'cricket', 'league', 'india', 'usually', 'contested', 'march', 'may', 'every', 'year', 'eight', 'teams', 'representing', 'eight', 'different', 'cities', 'states', 'india', '3', 'league', 'founded', 'board', 'control', 'cricket', 'india', 'bcci', '2007.', 'ipl', 'exclusive', 'window', 'icc', 'future', 'tours', 'programme', '4']\n"
     ]
    }
   ],
   "source": [
    "clean_tokens = [t for t in clean_tokens if t not in punctuation]\n",
    "print(clean_tokens)"
   ]
  },
  {
   "cell_type": "code",
   "execution_count": 16,
   "id": "26c834a2",
   "metadata": {},
   "outputs": [
    {
     "data": {
      "text/plain": [
       "40"
      ]
     },
     "execution_count": 16,
     "metadata": {},
     "output_type": "execute_result"
    }
   ],
   "source": [
    "len(clean_tokens)"
   ]
  },
  {
   "cell_type": "markdown",
   "id": "2db07905",
   "metadata": {},
   "source": [
    "# Stemming"
   ]
  },
  {
   "cell_type": "code",
   "execution_count": 17,
   "id": "d171eb7a",
   "metadata": {},
   "outputs": [],
   "source": [
    "stemmer = nltk.PorterStemmer()"
   ]
  },
  {
   "cell_type": "code",
   "execution_count": 18,
   "id": "d40278dd",
   "metadata": {},
   "outputs": [
    {
     "data": {
      "text/plain": [
       "'wolv'"
      ]
     },
     "execution_count": 18,
     "metadata": {},
     "output_type": "execute_result"
    }
   ],
   "source": [
    "stemmer.stem(\"wolves\")"
   ]
  },
  {
   "cell_type": "code",
   "execution_count": 19,
   "id": "ca0adea1",
   "metadata": {},
   "outputs": [
    {
     "data": {
      "text/plain": [
       "'studi'"
      ]
     },
     "execution_count": 19,
     "metadata": {},
     "output_type": "execute_result"
    }
   ],
   "source": [
    "stemmer.stem(\"studied\")"
   ]
  },
  {
   "cell_type": "markdown",
   "id": "0058238c",
   "metadata": {},
   "source": [
    "# Lemmatization"
   ]
  },
  {
   "cell_type": "code",
   "execution_count": 20,
   "id": "819eb5dc",
   "metadata": {},
   "outputs": [],
   "source": [
    "# nltk.download('wordnet')"
   ]
  },
  {
   "cell_type": "code",
   "execution_count": 21,
   "id": "a266483e",
   "metadata": {},
   "outputs": [],
   "source": [
    "from nltk.stem import WordNetLemmatizer"
   ]
  },
  {
   "cell_type": "code",
   "execution_count": 22,
   "id": "82290c81",
   "metadata": {},
   "outputs": [],
   "source": [
    "lemma = WordNetLemmatizer()"
   ]
  },
  {
   "cell_type": "code",
   "execution_count": 23,
   "id": "724c04ac",
   "metadata": {},
   "outputs": [
    {
     "data": {
      "text/plain": [
       "'wolf'"
      ]
     },
     "execution_count": 23,
     "metadata": {},
     "output_type": "execute_result"
    }
   ],
   "source": [
    "lemma.lemmatize(\"wolves\")"
   ]
  },
  {
   "cell_type": "code",
   "execution_count": 24,
   "id": "583cff2e",
   "metadata": {},
   "outputs": [
    {
     "data": {
      "text/plain": [
       "'studied'"
      ]
     },
     "execution_count": 24,
     "metadata": {},
     "output_type": "execute_result"
    }
   ],
   "source": [
    "lemma.lemmatize(\"studied\")"
   ]
  },
  {
   "cell_type": "code",
   "execution_count": 25,
   "id": "b72d3dd9",
   "metadata": {},
   "outputs": [
    {
     "name": "stdout",
     "output_type": "stream",
     "text": [
      "['indian', 'premier', 'league', 'ipl', 'professional', 'twenty20', 'cricket', 'league', 'india', 'usually', 'contested', 'march', 'may', 'every', 'year', 'eight', 'team', 'representing', 'eight', 'different', 'city', 'state', 'india', '3', 'league', 'founded', 'board', 'control', 'cricket', 'india', 'bcci', '2007.', 'ipl', 'exclusive', 'window', 'icc', 'future', 'tour', 'programme', '4']\n"
     ]
    }
   ],
   "source": [
    "# on clean tokens\n",
    "lemmatized_tokens = [lemma.lemmatize(t) for t in clean_tokens]\n",
    "print(lemmatized_tokens)"
   ]
  },
  {
   "cell_type": "code",
   "execution_count": 26,
   "id": "7c7239cf",
   "metadata": {},
   "outputs": [
    {
     "name": "stdout",
     "output_type": "stream",
     "text": [
      "indian premier league ipl professional twenty20 cricket league india usually contested march may every year eight team representing eight different city state india 3 league founded board control cricket india bcci 2007. ipl exclusive window icc future tour programme 4\n"
     ]
    }
   ],
   "source": [
    "clean_doc = ' '.join(lemmatized_tokens)\n",
    "print(clean_doc)"
   ]
  },
  {
   "cell_type": "markdown",
   "id": "5075ae79",
   "metadata": {},
   "source": [
    "# Parts of speech tagging"
   ]
  },
  {
   "cell_type": "code",
   "execution_count": 27,
   "id": "fb1f02b2",
   "metadata": {},
   "outputs": [],
   "source": [
    "# nltk.download('averaged_perceptron_tagger')"
   ]
  },
  {
   "cell_type": "code",
   "execution_count": 28,
   "id": "7fde93ba",
   "metadata": {},
   "outputs": [
    {
     "data": {
      "text/plain": [
       "[('indian', 'JJ'),\n",
       " ('premier', 'NN'),\n",
       " ('league', 'NN'),\n",
       " ('ipl', 'JJ'),\n",
       " ('professional', 'JJ'),\n",
       " ('twenty20', 'NN'),\n",
       " ('cricket', 'NN'),\n",
       " ('league', 'NN'),\n",
       " ('india', 'NN'),\n",
       " ('usually', 'RB'),\n",
       " ('contested', 'VBN'),\n",
       " ('march', 'NN'),\n",
       " ('may', 'MD'),\n",
       " ('every', 'DT'),\n",
       " ('year', 'NN'),\n",
       " ('eight', 'CD'),\n",
       " ('team', 'NN'),\n",
       " ('representing', 'VBG'),\n",
       " ('eight', 'CD'),\n",
       " ('different', 'JJ'),\n",
       " ('city', 'NN'),\n",
       " ('state', 'NN'),\n",
       " ('india', 'VBD'),\n",
       " ('3', 'CD'),\n",
       " ('league', 'NN'),\n",
       " ('founded', 'VBN'),\n",
       " ('board', 'NN'),\n",
       " ('control', 'NN'),\n",
       " ('cricket', 'NN'),\n",
       " ('india', 'VBP'),\n",
       " ('bcci', 'NN'),\n",
       " ('2007.', 'CD'),\n",
       " ('ipl', 'NN'),\n",
       " ('exclusive', 'JJ'),\n",
       " ('window', 'NN'),\n",
       " ('icc', 'JJ'),\n",
       " ('future', 'JJ'),\n",
       " ('tour', 'NN'),\n",
       " ('programme', 'NN'),\n",
       " ('4', 'CD')]"
      ]
     },
     "execution_count": 28,
     "metadata": {},
     "output_type": "execute_result"
    }
   ],
   "source": [
    "nltk.pos_tag(lemmatized_tokens)"
   ]
  },
  {
   "cell_type": "markdown",
   "id": "13cf7abd",
   "metadata": {},
   "source": [
    "# Named Entity Recognition"
   ]
  },
  {
   "cell_type": "code",
   "execution_count": 29,
   "id": "57ed7b78",
   "metadata": {},
   "outputs": [
    {
     "name": "stdout",
     "output_type": "stream",
     "text": [
      "Collecting en-core-web-sm==3.2.0\n",
      "  Downloading https://github.com/explosion/spacy-models/releases/download/en_core_web_sm-3.2.0/en_core_web_sm-3.2.0-py3-none-any.whl (13.9 MB)\n",
      "Requirement already satisfied: spacy<3.3.0,>=3.2.0 in e:\\class\\anaconda\\lib\\site-packages (from en-core-web-sm==3.2.0) (3.2.1)\n",
      "Requirement already satisfied: cymem<2.1.0,>=2.0.2 in e:\\class\\anaconda\\lib\\site-packages (from spacy<3.3.0,>=3.2.0->en-core-web-sm==3.2.0) (2.0.6)\n",
      "Requirement already satisfied: thinc<8.1.0,>=8.0.12 in e:\\class\\anaconda\\lib\\site-packages (from spacy<3.3.0,>=3.2.0->en-core-web-sm==3.2.0) (8.0.13)\n",
      "Requirement already satisfied: setuptools in e:\\class\\anaconda\\lib\\site-packages (from spacy<3.3.0,>=3.2.0->en-core-web-sm==3.2.0) (52.0.0.post20210125)\n",
      "Requirement already satisfied: preshed<3.1.0,>=3.0.2 in e:\\class\\anaconda\\lib\\site-packages (from spacy<3.3.0,>=3.2.0->en-core-web-sm==3.2.0) (3.0.6)\n",
      "Requirement already satisfied: catalogue<2.1.0,>=2.0.6 in e:\\class\\anaconda\\lib\\site-packages (from spacy<3.3.0,>=3.2.0->en-core-web-sm==3.2.0) (2.0.6)\n",
      "Requirement already satisfied: spacy-legacy<3.1.0,>=3.0.8 in e:\\class\\anaconda\\lib\\site-packages (from spacy<3.3.0,>=3.2.0->en-core-web-sm==3.2.0) (3.0.8)\n",
      "Requirement already satisfied: blis<0.8.0,>=0.4.0 in e:\\class\\anaconda\\lib\\site-packages (from spacy<3.3.0,>=3.2.0->en-core-web-sm==3.2.0) (0.7.5)\n",
      "Requirement already satisfied: langcodes<4.0.0,>=3.2.0 in e:\\class\\anaconda\\lib\\site-packages (from spacy<3.3.0,>=3.2.0->en-core-web-sm==3.2.0) (3.3.0)\n",
      "Requirement already satisfied: spacy-loggers<2.0.0,>=1.0.0 in e:\\class\\anaconda\\lib\\site-packages (from spacy<3.3.0,>=3.2.0->en-core-web-sm==3.2.0) (1.0.1)\n",
      "Requirement already satisfied: srsly<3.0.0,>=2.4.1 in e:\\class\\anaconda\\lib\\site-packages (from spacy<3.3.0,>=3.2.0->en-core-web-sm==3.2.0) (2.4.2)\n",
      "Requirement already satisfied: tqdm<5.0.0,>=4.38.0 in e:\\class\\anaconda\\lib\\site-packages (from spacy<3.3.0,>=3.2.0->en-core-web-sm==3.2.0) (4.59.0)\n",
      "Requirement already satisfied: packaging>=20.0 in e:\\class\\anaconda\\lib\\site-packages (from spacy<3.3.0,>=3.2.0->en-core-web-sm==3.2.0) (20.9)\n",
      "Requirement already satisfied: murmurhash<1.1.0,>=0.28.0 in e:\\class\\anaconda\\lib\\site-packages (from spacy<3.3.0,>=3.2.0->en-core-web-sm==3.2.0) (1.0.6)\n",
      "Requirement already satisfied: requests<3.0.0,>=2.13.0 in e:\\class\\anaconda\\lib\\site-packages (from spacy<3.3.0,>=3.2.0->en-core-web-sm==3.2.0) (2.25.1)\n",
      "Requirement already satisfied: wasabi<1.1.0,>=0.8.1 in e:\\class\\anaconda\\lib\\site-packages (from spacy<3.3.0,>=3.2.0->en-core-web-sm==3.2.0) (0.9.0)\n",
      "Requirement already satisfied: pathy>=0.3.5 in e:\\class\\anaconda\\lib\\site-packages (from spacy<3.3.0,>=3.2.0->en-core-web-sm==3.2.0) (0.6.1)\n",
      "Requirement already satisfied: jinja2 in e:\\class\\anaconda\\lib\\site-packages (from spacy<3.3.0,>=3.2.0->en-core-web-sm==3.2.0) (2.11.3)\n",
      "Requirement already satisfied: pydantic!=1.8,!=1.8.1,<1.9.0,>=1.7.4 in e:\\class\\anaconda\\lib\\site-packages (from spacy<3.3.0,>=3.2.0->en-core-web-sm==3.2.0) (1.8.2)\n",
      "Requirement already satisfied: numpy>=1.15.0 in e:\\class\\anaconda\\lib\\site-packages (from spacy<3.3.0,>=3.2.0->en-core-web-sm==3.2.0) (1.20.1)\n",
      "Requirement already satisfied: typer<0.5.0,>=0.3.0 in e:\\class\\anaconda\\lib\\site-packages (from spacy<3.3.0,>=3.2.0->en-core-web-sm==3.2.0) (0.4.0)\n",
      "Requirement already satisfied: pyparsing>=2.0.2 in e:\\class\\anaconda\\lib\\site-packages (from packaging>=20.0->spacy<3.3.0,>=3.2.0->en-core-web-sm==3.2.0) (2.4.7)\n",
      "Requirement already satisfied: smart-open<6.0.0,>=5.0.0 in e:\\class\\anaconda\\lib\\site-packages (from pathy>=0.3.5->spacy<3.3.0,>=3.2.0->en-core-web-sm==3.2.0) (5.2.1)\n",
      "Requirement already satisfied: typing-extensions>=3.7.4.3 in e:\\class\\anaconda\\lib\\site-packages (from pydantic!=1.8,!=1.8.1,<1.9.0,>=1.7.4->spacy<3.3.0,>=3.2.0->en-core-web-sm==3.2.0) (3.7.4.3)\n",
      "Requirement already satisfied: chardet<5,>=3.0.2 in e:\\class\\anaconda\\lib\\site-packages (from requests<3.0.0,>=2.13.0->spacy<3.3.0,>=3.2.0->en-core-web-sm==3.2.0) (4.0.0)\n",
      "Requirement already satisfied: urllib3<1.27,>=1.21.1 in e:\\class\\anaconda\\lib\\site-packages (from requests<3.0.0,>=2.13.0->spacy<3.3.0,>=3.2.0->en-core-web-sm==3.2.0) (1.26.4)\n",
      "Requirement already satisfied: certifi>=2017.4.17 in e:\\class\\anaconda\\lib\\site-packages (from requests<3.0.0,>=2.13.0->spacy<3.3.0,>=3.2.0->en-core-web-sm==3.2.0) (2021.10.8)\n",
      "Requirement already satisfied: idna<3,>=2.5 in e:\\class\\anaconda\\lib\\site-packages (from requests<3.0.0,>=2.13.0->spacy<3.3.0,>=3.2.0->en-core-web-sm==3.2.0) (2.10)\n",
      "Requirement already satisfied: click<9.0.0,>=7.1.1 in e:\\class\\anaconda\\lib\\site-packages (from typer<0.5.0,>=0.3.0->spacy<3.3.0,>=3.2.0->en-core-web-sm==3.2.0) (7.1.2)\n",
      "Requirement already satisfied: MarkupSafe>=0.23 in e:\\class\\anaconda\\lib\\site-packages (from jinja2->spacy<3.3.0,>=3.2.0->en-core-web-sm==3.2.0) (2.0.1)\n",
      "Installing collected packages: en-core-web-sm\n",
      "Successfully installed en-core-web-sm-3.2.0\n",
      "[!] As of spaCy v3.0, shortcuts like 'en' are deprecated. Please use the full\n",
      "pipeline package name 'en_core_web_sm' instead.\n",
      "[+] Download and installation successful\n",
      "You can now load the package via spacy.load('en_core_web_sm')\n"
     ]
    },
    {
     "name": "stderr",
     "output_type": "stream",
     "text": [
      "2022-01-20 09:35:08.210486: W tensorflow/stream_executor/platform/default/dso_loader.cc:64] Could not load dynamic library 'cudart64_110.dll'; dlerror: cudart64_110.dll not found\n",
      "2022-01-20 09:35:08.210984: I tensorflow/stream_executor/cuda/cudart_stub.cc:29] Ignore above cudart dlerror if you do not have a GPU set up on your machine.\n"
     ]
    }
   ],
   "source": [
    "#!python -m spacy download en"
   ]
  },
  {
   "cell_type": "code",
   "execution_count": 2,
   "id": "9ebc00da",
   "metadata": {},
   "outputs": [],
   "source": [
    "import spacy"
   ]
  },
  {
   "cell_type": "code",
   "execution_count": 3,
   "id": "a9fc8920",
   "metadata": {},
   "outputs": [
    {
     "ename": "TypeError",
     "evalue": "load() got an unexpected keyword argument 'parser'",
     "output_type": "error",
     "traceback": [
      "\u001b[1;31m---------------------------------------------------------------------------\u001b[0m",
      "\u001b[1;31mTypeError\u001b[0m                                 Traceback (most recent call last)",
      "\u001b[1;32m<ipython-input-3-3a8615a8712b>\u001b[0m in \u001b[0;36m<module>\u001b[1;34m\u001b[0m\n\u001b[0;32m      1\u001b[0m \u001b[1;31m# spacy english model trained to perform various NLP task\u001b[0m\u001b[1;33m\u001b[0m\u001b[1;33m\u001b[0m\u001b[1;33m\u001b[0m\u001b[0m\n\u001b[1;32m----> 2\u001b[1;33m \u001b[0mnlp\u001b[0m \u001b[1;33m=\u001b[0m \u001b[0mspacy\u001b[0m\u001b[1;33m.\u001b[0m\u001b[0mload\u001b[0m\u001b[1;33m(\u001b[0m\u001b[1;34m\"en_core_web_sm\"\u001b[0m\u001b[1;33m,\u001b[0m \u001b[0mparser\u001b[0m \u001b[1;33m=\u001b[0m \u001b[1;32mFalse\u001b[0m\u001b[1;33m)\u001b[0m\u001b[1;33m\u001b[0m\u001b[1;33m\u001b[0m\u001b[0m\n\u001b[0m",
      "\u001b[1;31mTypeError\u001b[0m: load() got an unexpected keyword argument 'parser'"
     ]
    }
   ],
   "source": [
    "# spacy english model trained to perform various NLP task\n",
    "nlp = spacy.load(\"en_core_web_sm\")"
   ]
  },
  {
   "cell_type": "code",
   "execution_count": null,
   "id": "d82e9a99",
   "metadata": {},
   "outputs": [],
   "source": [
    "doc = \"The legendary Sachin Tendulkar from India was voted as the greatest Test men's batsman by a panel of commentators and fans on Star Sports.\" "
   ]
  },
  {
   "cell_type": "code",
   "execution_count": null,
   "id": "741499c5",
   "metadata": {},
   "outputs": [],
   "source": [
    "spacy_doc = nlp(doc)"
   ]
  },
  {
   "cell_type": "code",
   "execution_count": null,
   "id": "f8cbc3cf",
   "metadata": {},
   "outputs": [],
   "source": [
    "spacy_doc.ents"
   ]
  },
  {
   "cell_type": "markdown",
   "id": "8e366c38",
   "metadata": {},
   "source": [
    "# WordCloud"
   ]
  },
  {
   "cell_type": "code",
   "execution_count": 36,
   "id": "3d527411",
   "metadata": {},
   "outputs": [],
   "source": [
    "from wordcloud import WordCloud\n",
    "import matplotlib.pyplot as plt"
   ]
  },
  {
   "cell_type": "code",
   "execution_count": 37,
   "id": "15a2de69",
   "metadata": {},
   "outputs": [
    {
     "data": {
      "text/plain": [
       "<wordcloud.wordcloud.WordCloud at 0x2499eadf0a0>"
      ]
     },
     "execution_count": 37,
     "metadata": {},
     "output_type": "execute_result"
    }
   ],
   "source": [
    "wc = WordCloud(width=500,\n",
    "          height=500,\n",
    "          background_color=\"white\",\n",
    "          min_font_size=10)\n",
    "\n",
    "wc.generate(document)"
   ]
  },
  {
   "cell_type": "code",
   "execution_count": 38,
   "id": "dfc6ca07",
   "metadata": {},
   "outputs": [
    {
     "data": {
      "image/png": "[encoded data removed]",
      "text/plain": [
       "<Figure size 432x432 with 1 Axes>"
      ]
     },
     "metadata": {
      "needs_background": "light"
     },
     "output_type": "display_data"
    }
   ],
   "source": [
    "plt.figure(figsize=(6,6))\n",
    "plt.imshow(wc)\n",
    "plt.axis(\"off\")\n",
    "plt.show()"
   ]
  },
  {
   "cell_type": "code",
   "execution_count": null,
   "id": "9dca62ab",
   "metadata": {},
   "outputs": [],
   "source": []
  }
 ],
 "metadata": {
  "kernelspec": {
   "display_name": "Python 3",
   "language": "python",
   "name": "python3"
  },
  "language_info": {
   "codemirror_mode": {
    "name": "ipython",
    "version": 3
   },
   "file_extension": ".py",
   "mimetype": "text/x-python",
   "name": "python",
   "nbconvert_exporter": "python",
   "pygments_lexer": "ipython3",
   "version": "3.8.8"
  }
 },
 "nbformat": 4,
 "nbformat_minor": 5
}
