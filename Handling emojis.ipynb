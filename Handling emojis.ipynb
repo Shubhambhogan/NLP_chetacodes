{
 "cells": [
  {
   "cell_type": "code",
   "execution_count": 1,
   "metadata": {
    "colab": {
     "base_uri": "https://localhost:8080/"
    },
    "executionInfo": {
     "elapsed": 7119,
     "status": "ok",
     "timestamp": 1643261183262,
     "user": {
      "displayName": "Sukamal Das",
      "photoUrl": "https://lh3.googleusercontent.com/a-/AOh14GgynW-nlolM2lOMvgHA8fegGPERtCVk1ipmgGPh3Q=s64",
      "userId": "17211953657258547550"
     },
     "user_tz": -330
    },
    "id": "7_5w3VGi_3r5",
    "outputId": "fcf0bd09-aaa6-4d28-d606-7f2d813fe632"
   },
   "outputs": [],
   "source": [
    "# ! pip install emoji"
   ]
  },
  {
   "cell_type": "markdown",
   "metadata": {
    "id": "ow_McfKDApp3"
   },
   "source": [
    "## Emoji to Text"
   ]
  },
  {
   "cell_type": "code",
   "execution_count": 2,
   "metadata": {
    "executionInfo": {
     "elapsed": 371,
     "status": "ok",
     "timestamp": 1643261198313,
     "user": {
      "displayName": "Sukamal Das",
      "photoUrl": "https://lh3.googleusercontent.com/a-/AOh14GgynW-nlolM2lOMvgHA8fegGPERtCVk1ipmgGPh3Q=s64",
      "userId": "17211953657258547550"
     },
     "user_tz": -330
    },
    "id": "-esEzrmk_S_E"
   },
   "outputs": [],
   "source": [
    "import emoji"
   ]
  },
  {
   "cell_type": "code",
   "execution_count": 3,
   "metadata": {
    "colab": {
     "base_uri": "https://localhost:8080/"
    },
    "executionInfo": {
     "elapsed": 39,
     "status": "ok",
     "timestamp": 1643261145417,
     "user": {
      "displayName": "Sukamal Das",
      "photoUrl": "https://lh3.googleusercontent.com/a-/AOh14GgynW-nlolM2lOMvgHA8fegGPERtCVk1ipmgGPh3Q=s64",
      "userId": "17211953657258547550"
     },
     "user_tz": -330
    },
    "id": "njT25khM_jyy",
    "outputId": "d963cba3-1689-40fe-e9a6-23ec0bbb400c"
   },
   "outputs": [
    {
     "name": "stdout",
     "output_type": "stream",
     "text": [
      "The movie was awesome! 👍\n",
      "I loved the movie ❤️\n"
     ]
    }
   ],
   "source": [
    "doc1 = \"The movie was awesome! 👍\"\n",
    "doc2 = \"I loved the movie ❤️\"\n",
    "\n",
    "print(doc1)\n",
    "print(doc2)"
   ]
  },
  {
   "cell_type": "code",
   "execution_count": 4,
   "metadata": {
    "colab": {
     "base_uri": "https://localhost:8080/",
     "height": 35
    },
    "executionInfo": {
     "elapsed": 47,
     "status": "ok",
     "timestamp": 1643261293527,
     "user": {
      "displayName": "Sukamal Das",
      "photoUrl": "https://lh3.googleusercontent.com/a-/AOh14GgynW-nlolM2lOMvgHA8fegGPERtCVk1ipmgGPh3Q=s64",
      "userId": "17211953657258547550"
     },
     "user_tz": -330
    },
    "id": "fZ14ZCZj_xXo",
    "outputId": "8d7183cf-7b4f-4e90-f893-980651ec2b3a"
   },
   "outputs": [
    {
     "data": {
      "text/plain": [
       "'The movie was awesome! :thumbs_up:'"
      ]
     },
     "execution_count": 4,
     "metadata": {},
     "output_type": "execute_result"
    }
   ],
   "source": [
    "emoji.demojize(doc1)"
   ]
  },
  {
   "cell_type": "code",
   "execution_count": 5,
   "metadata": {
    "colab": {
     "base_uri": "https://localhost:8080/",
     "height": 35
    },
    "executionInfo": {
     "elapsed": 634,
     "status": "ok",
     "timestamp": 1643261313786,
     "user": {
      "displayName": "Sukamal Das",
      "photoUrl": "https://lh3.googleusercontent.com/a-/AOh14GgynW-nlolM2lOMvgHA8fegGPERtCVk1ipmgGPh3Q=s64",
      "userId": "17211953657258547550"
     },
     "user_tz": -330
    },
    "id": "O9CGgPhSAWyt",
    "outputId": "04637067-8cbc-43d6-a94e-6fab68bfc7db"
   },
   "outputs": [
    {
     "data": {
      "text/plain": [
       "'I loved the movie :red_heart:'"
      ]
     },
     "execution_count": 5,
     "metadata": {},
     "output_type": "execute_result"
    }
   ],
   "source": [
    "emoji.demojize(doc2)"
   ]
  },
  {
   "cell_type": "markdown",
   "metadata": {
    "id": "2cLE4TFmAvFk"
   },
   "source": [
    "## Remove Emoji"
   ]
  },
  {
   "cell_type": "code",
   "execution_count": 6,
   "metadata": {
    "executionInfo": {
     "elapsed": 475,
     "status": "ok",
     "timestamp": 1643261415317,
     "user": {
      "displayName": "Sukamal Das",
      "photoUrl": "https://lh3.googleusercontent.com/a-/AOh14GgynW-nlolM2lOMvgHA8fegGPERtCVk1ipmgGPh3Q=s64",
      "userId": "17211953657258547550"
     },
     "user_tz": -330
    },
    "id": "R37KzXE-AbuW"
   },
   "outputs": [],
   "source": [
    "import re"
   ]
  },
  {
   "cell_type": "code",
   "execution_count": 7,
   "metadata": {
    "executionInfo": {
     "elapsed": 368,
     "status": "ok",
     "timestamp": 1643261574704,
     "user": {
      "displayName": "Sukamal Das",
      "photoUrl": "https://lh3.googleusercontent.com/a-/AOh14GgynW-nlolM2lOMvgHA8fegGPERtCVk1ipmgGPh3Q=s64",
      "userId": "17211953657258547550"
     },
     "user_tz": -330
    },
    "id": "MghvCUEJA0tx"
   },
   "outputs": [],
   "source": [
    "def demojify(text):\n",
    "    regex_pattern = re.compile(pattern = \"[\"\n",
    "        u\"\\U0001F600-\\U0001F64F\"  # emoticons\n",
    "        u\"\\U0001F300-\\U0001F5FF\"  # symbols & pictographs\n",
    "        u\"\\U0001F680-\\U0001F6FF\"  # transport & map symbols\n",
    "        u\"\\U0001F1E0-\\U0001F1FF\"  # flags (iOS)\n",
    "        u\"\\U0001F1F2-\\U0001F1F4\"  # Macau flag\n",
    "        u\"\\U0001F1E6-\\U0001F1FF\"  # flags\n",
    "        u\"\\U0001F600-\\U0001F64F\"\n",
    "        u\"\\U00002702-\\U000027B0\"\n",
    "        u\"\\U000024C2-\\U0001F251\"\n",
    "        u\"\\U0001f926-\\U0001f937\"\n",
    "                           \"]+\", flags = re.UNICODE)\n",
    "    return regex_pattern.sub(r'',text)"
   ]
  },
  {
   "cell_type": "code",
   "execution_count": 8,
   "metadata": {
    "colab": {
     "base_uri": "https://localhost:8080/",
     "height": 35
    },
    "executionInfo": {
     "elapsed": 10,
     "status": "ok",
     "timestamp": 1643261576676,
     "user": {
      "displayName": "Sukamal Das",
      "photoUrl": "https://lh3.googleusercontent.com/a-/AOh14GgynW-nlolM2lOMvgHA8fegGPERtCVk1ipmgGPh3Q=s64",
      "userId": "17211953657258547550"
     },
     "user_tz": -330
    },
    "id": "wSANgJWJBImj",
    "outputId": "4daae2cd-6169-4c79-fb57-ccd8a9f9578f"
   },
   "outputs": [
    {
     "data": {
      "text/plain": [
       "'The movie was awesome! '"
      ]
     },
     "execution_count": 8,
     "metadata": {},
     "output_type": "execute_result"
    }
   ],
   "source": [
    "demojify(doc1)"
   ]
  },
  {
   "cell_type": "code",
   "execution_count": 9,
   "metadata": {
    "colab": {
     "base_uri": "https://localhost:8080/",
     "height": 35
    },
    "executionInfo": {
     "elapsed": 371,
     "status": "ok",
     "timestamp": 1643261579410,
     "user": {
      "displayName": "Sukamal Das",
      "photoUrl": "https://lh3.googleusercontent.com/a-/AOh14GgynW-nlolM2lOMvgHA8fegGPERtCVk1ipmgGPh3Q=s64",
      "userId": "17211953657258547550"
     },
     "user_tz": -330
    },
    "id": "WllISG2JBKYF",
    "outputId": "8567f5c9-de64-4fd8-c092-2978645bbf15"
   },
   "outputs": [
    {
     "data": {
      "text/plain": [
       "'I loved the movie '"
      ]
     },
     "execution_count": 9,
     "metadata": {},
     "output_type": "execute_result"
    }
   ],
   "source": [
    "demojify(doc2)"
   ]
  },
  {
   "cell_type": "code",
   "execution_count": null,
   "metadata": {
    "id": "RNd_hfRjBL9P"
   },
   "outputs": [],
   "source": []
  }
 ],
 "metadata": {
  "colab": {
   "authorship_tag": "ABX9TyPLPz1zdGFHXz+5pNDzl9c8",
   "collapsed_sections": [],
   "name": "Handling emojis.ipynb",
   "provenance": []
  },
  "kernelspec": {
   "display_name": "Python 3",
   "language": "python",
   "name": "python3"
  },
  "language_info": {
   "codemirror_mode": {
    "name": "ipython",
    "version": 3
   },
   "file_extension": ".py",
   "mimetype": "text/x-python",
   "name": "python",
   "nbconvert_exporter": "python",
   "pygments_lexer": "ipython3",
   "version": "3.8.8"
  }
 },
 "nbformat": 4,
 "nbformat_minor": 1
}
